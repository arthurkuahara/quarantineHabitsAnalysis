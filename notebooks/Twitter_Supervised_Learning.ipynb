{
 "cells": [
  {
   "cell_type": "markdown",
   "metadata": {},
   "source": [
    "# Twitter Sentiment Prediction \n",
    "In this notebook, we use our complete dataset with the column of Sentiment to do a simple Twitter Sentiment Analysis supervised learning model using python and NLP (Natural Language Processing) libraries."
   ]
  },
  {
   "cell_type": "markdown",
   "metadata": {},
   "source": [
    "## Setting up"
   ]
  },
  {
   "cell_type": "code",
   "execution_count": 18,
   "metadata": {},
   "outputs": [],
   "source": [
    "import pandas as pd\n",
    "import numpy as np\n",
    "import re\n",
    "import string\n",
    "#import nltk\n",
    "#nltk.download('stopwords')\n",
    "from nltk.corpus import stopwords\n",
    "from nltk.tokenize import word_tokenize\n",
    "from sklearn.feature_extraction.text import TfidfVectorizer\n",
    "from sklearn.model_selection import train_test_split\n",
    "from nltk.stem import PorterStemmer\n",
    "from nltk.stem import WordNetLemmatizer\n",
    "# ML Libraries\n",
    "from sklearn.metrics import accuracy_score\n",
    "from sklearn.naive_bayes import MultinomialNB\n",
    "from sklearn.linear_model import LogisticRegression\n",
    "from sklearn.linear_model import Ridge\n",
    "from sklearn.linear_model import Lasso\n",
    "from sklearn.neighbors import KNeighborsClassifier \n",
    "from sklearn.svm import SVC\n",
    "from sklearn.metrics import classification_report, confusion_matrix, f1_score  \n",
    "from sklearn.metrics import plot_confusion_matrix\n",
    "from sklearn import linear_model\n",
    "from sklearn.metrics import mean_squared_error, r2_score\n",
    "from sklearn.ensemble import RandomForestClassifier\n",
    "from sklearn.model_selection import cross_val_score\n",
    "from sklearn.model_selection import RepeatedKFold\n",
    "from numpy import absolute\n",
    "#Plots\n",
    "import seaborn as sns\n",
    "from matplotlib import pyplot as plt\n",
    "# Global Parameters\n",
    "stop_words = set(stopwords.words('english'))"
   ]
  },
  {
   "cell_type": "code",
   "execution_count": 4,
   "metadata": {},
   "outputs": [],
   "source": [
    "def preprocess_tweet_text(tweet):\n",
    "    if(isinstance(tweet, str)):\n",
    "        # Remove urls\n",
    "        tweet = re.sub(r\"http\\S+|www\\S+|https\\S+\", '', tweet, flags=re.MULTILINE)\n",
    "        # Remove user @ references and '#' from tweet\n",
    "        tweet = re.sub(r'\\@\\w+|\\#','', tweet)\n",
    "        # Remove punctuations\n",
    "        tweet = tweet.translate(str.maketrans('', '', string.punctuation))\n",
    "        # Remove stopwords\n",
    "        tweet_tokens = word_tokenize(tweet)\n",
    "        filtered_words = [w for w in tweet_tokens if not w in stop_words]\n",
    "\n",
    "        ps = PorterStemmer()\n",
    "        stemmed_words = [ps.stem(w) for w in filtered_words]\n",
    "        #lemmatizer = WordNetLemmatizer()\n",
    "        #lemma_words = [lemmatizer.lemmatize(w, pos='a') for w in stemmed_words]\n",
    "\n",
    "        return \" \".join(filtered_words)\n",
    "    else:\n",
    "        return tweet"
   ]
  },
  {
   "cell_type": "code",
   "execution_count": 5,
   "metadata": {},
   "outputs": [],
   "source": [
    "def load_dataset(filename, cols):\n",
    "    dataset = pd.read_csv(filename, encoding='latin-1')\n",
    "    dataset.columns = cols\n",
    "    return dataset"
   ]
  },
  {
   "cell_type": "markdown",
   "metadata": {},
   "source": [
    "**Note**: Vectorizing is the process to convert tokens to numbers. It is an important step because the machine learning algorithm works with numbers and not text."
   ]
  },
  {
   "cell_type": "code",
   "execution_count": 6,
   "metadata": {},
   "outputs": [],
   "source": [
    "def get_feature_vector(train_fit):\n",
    "    vector = TfidfVectorizer(sublinear_tf=True)\n",
    "    vector.fit(train_fit)\n",
    "    return vector"
   ]
  },
  {
   "cell_type": "code",
   "execution_count": 7,
   "metadata": {},
   "outputs": [],
   "source": [
    "#The sentiment column is comprised of the integer values 0, 2, and 4. \n",
    "def int_to_string(sentiment):\n",
    "    if sentiment == -1:\n",
    "        return \"Negative\"\n",
    "    elif sentiment == 0:\n",
    "        return \"Neutral\"\n",
    "    else:\n",
    "        return \"Positive\""
   ]
  },
  {
   "cell_type": "code",
   "execution_count": 8,
   "metadata": {},
   "outputs": [],
   "source": [
    "def redefine_dataset(dataset):\n",
    "    new_dataset = pd.DataFrame()\n",
    "    new_dataset['text'] = dataset['Tweets']\n",
    "    new_dataset['target'] = dataset['SA']\n",
    "    #new_dataset['target'] = np.array([ int_to_string(tweet) for tweet in dataset['SA'] ])\n",
    "    return new_dataset"
   ]
  },
  {
   "cell_type": "markdown",
   "metadata": {},
   "source": [
    "You'll see Naive Bayes and Logistic Regression algorithms for predictions. These two algorithms are quite popular in NLP, although you can try out other options too."
   ]
  },
  {
   "cell_type": "code",
   "execution_count": 97,
   "metadata": {},
   "outputs": [],
   "source": [
    "keywords = ['Tweets', 'len', 'ID', 'Date', 'Source', 'Likes', 'RTs',\n",
    "       'User Location', 'Geo', 'Coordinates', 'SA TextBlob', 'SA']\n",
    "# Load dataset\n",
    "dataset = load_dataset(\"sample_data/final_tweets_dataset.csv\", keywords)\n",
    "# Remove unwanted columns from dataset\n",
    "df = redefine_dataset(dataset)\n",
    "#Preprocess data\n",
    "df['text'] = df['text'].apply(preprocess_tweet_text)"
   ]
  },
  {
   "cell_type": "code",
   "execution_count": 98,
   "metadata": {},
   "outputs": [
    {
     "data": {
      "text/html": [
       "<div>\n",
       "<style scoped>\n",
       "    .dataframe tbody tr th:only-of-type {\n",
       "        vertical-align: middle;\n",
       "    }\n",
       "\n",
       "    .dataframe tbody tr th {\n",
       "        vertical-align: top;\n",
       "    }\n",
       "\n",
       "    .dataframe thead th {\n",
       "        text-align: right;\n",
       "    }\n",
       "</style>\n",
       "<table border=\"1\" class=\"dataframe\">\n",
       "  <thead>\n",
       "    <tr style=\"text-align: right;\">\n",
       "      <th></th>\n",
       "      <th>text</th>\n",
       "      <th>target</th>\n",
       "    </tr>\n",
       "  </thead>\n",
       "  <tbody>\n",
       "    <tr>\n",
       "      <th>0</th>\n",
       "      <td>RT One thing threat Coronavirus outbreak made ...</td>\n",
       "      <td>1</td>\n",
       "    </tr>\n",
       "    <tr>\n",
       "      <th>1</th>\n",
       "      <td>RT Mon beaufrÃ¨re prÃ©sente tous les symptÃ´me...</td>\n",
       "      <td>0</td>\n",
       "    </tr>\n",
       "    <tr>\n",
       "      <th>2</th>\n",
       "      <td>RT SoireeBFMTV Nous avons un objectif freiner ...</td>\n",
       "      <td>1</td>\n",
       "    </tr>\n",
       "    <tr>\n",
       "      <th>3</th>\n",
       "      <td>RT Coronavirus CoronavirusPy Esta es la primer...</td>\n",
       "      <td>1</td>\n",
       "    </tr>\n",
       "    <tr>\n",
       "      <th>4</th>\n",
       "      <td>RT Ya os lo digo yo Â¡PARA JODER</td>\n",
       "      <td>-1</td>\n",
       "    </tr>\n",
       "  </tbody>\n",
       "</table>\n",
       "</div>"
      ],
      "text/plain": [
       "                                                text  target\n",
       "0  RT One thing threat Coronavirus outbreak made ...       1\n",
       "1  RT Mon beaufrÃ¨re prÃ©sente tous les symptÃ´me...       0\n",
       "2  RT SoireeBFMTV Nous avons un objectif freiner ...       1\n",
       "3  RT Coronavirus CoronavirusPy Esta es la primer...       1\n",
       "4                   RT Ya os lo digo yo Â¡PARA JODER      -1"
      ]
     },
     "execution_count": 98,
     "metadata": {},
     "output_type": "execute_result"
    }
   ],
   "source": [
    "df.head()"
   ]
  },
  {
   "cell_type": "code",
   "execution_count": 99,
   "metadata": {},
   "outputs": [],
   "source": [
    "tf_vector = get_feature_vector(np.array(df.iloc[:, 0]))\n",
    "X = tf_vector.transform(np.array(df.iloc[:, 0]).ravel())\n",
    "y = np.array(df.iloc[:, 1]).ravel()\n",
    "X_train, X_test, y_train, y_test = train_test_split(X, y, test_size=0.2, random_state=30)"
   ]
  },
  {
   "cell_type": "markdown",
   "metadata": {},
   "source": [
    "**Note**: foram utilizados um split de 80-20 de treino/teste."
   ]
  },
  {
   "cell_type": "markdown",
   "metadata": {},
   "source": [
    "***\n",
    "# Classification"
   ]
  },
  {
   "cell_type": "markdown",
   "metadata": {},
   "source": [
    "We use classification methods for training the model based on the already labeled sentiments and try to predict the sentiments of the tweet according to the model choosed."
   ]
  },
  {
   "cell_type": "markdown",
   "metadata": {},
   "source": [
    "## K Nearest Neighbours"
   ]
  },
  {
   "cell_type": "code",
   "execution_count": 100,
   "metadata": {},
   "outputs": [
    {
     "name": "stdout",
     "output_type": "stream",
     "text": [
      "0.5007938151446124\n"
     ]
    }
   ],
   "source": [
    "# Training KNN model\n",
    "knn = KNeighborsClassifier()\n",
    "knn.fit(X_train, y_train)\n",
    "y_predict_knn = knn.predict(X_test)\n",
    "print(accuracy_score(y_test, y_predict_knn))"
   ]
  },
  {
   "cell_type": "markdown",
   "metadata": {},
   "source": [
    "### Confusion Matrix"
   ]
  },
  {
   "cell_type": "code",
   "execution_count": 74,
   "metadata": {},
   "outputs": [
    {
     "data": {
      "text/plain": [
       "<sklearn.metrics._plot.confusion_matrix.ConfusionMatrixDisplay at 0x7ff1c3036890>"
      ]
     },
     "execution_count": 74,
     "metadata": {},
     "output_type": "execute_result"
    },
    {
     "data": {
      "image/png": "[encoded data removed]",
      "text/plain": [
       "<Figure size 432x288 with 2 Axes>"
      ]
     },
     "metadata": {
      "needs_background": "light"
     },
     "output_type": "display_data"
    }
   ],
   "source": [
    "confusion_matrix(y_test, y_predict_knn)\n",
    "plot_confusion_matrix(knn, X_test, y_test, cmap='BuPu')  "
   ]
  },
  {
   "cell_type": "code",
   "execution_count": 65,
   "metadata": {},
   "outputs": [
    {
     "name": "stdout",
     "output_type": "stream",
     "text": [
      "              precision    recall  f1-score   support\n",
      "\n",
      "          -1       0.86      0.13      0.22      2533\n",
      "           0       0.47      0.99      0.64      6447\n",
      "           1       0.93      0.10      0.19      5507\n",
      "\n",
      "    accuracy                           0.50     14487\n",
      "   macro avg       0.75      0.41      0.35     14487\n",
      "weighted avg       0.71      0.50      0.39     14487\n",
      "\n"
     ]
    }
   ],
   "source": [
    "print(classification_report(y_test, y_predict_knn, labels=np.unique(y_predict_knn)))"
   ]
  },
  {
   "cell_type": "markdown",
   "metadata": {},
   "source": [
    "## Naive Bayes model"
   ]
  },
  {
   "cell_type": "code",
   "execution_count": 102,
   "metadata": {},
   "outputs": [
    {
     "name": "stdout",
     "output_type": "stream",
     "text": [
      "0.667149858493822\n"
     ]
    }
   ],
   "source": [
    "# Training Naive Bayes model\n",
    "NB_model = MultinomialNB()\n",
    "NB_model.fit(X_train, y_train)\n",
    "y_predict_nb = NB_model.predict(X_test)\n",
    "print(accuracy_score(y_test, y_predict_nb))"
   ]
  },
  {
   "cell_type": "markdown",
   "metadata": {},
   "source": [
    "### Confusion Matrix"
   ]
  },
  {
   "cell_type": "code",
   "execution_count": 73,
   "metadata": {},
   "outputs": [
    {
     "data": {
      "text/plain": [
       "<sklearn.metrics._plot.confusion_matrix.ConfusionMatrixDisplay at 0x7ff1c4a2be90>"
      ]
     },
     "execution_count": 73,
     "metadata": {},
     "output_type": "execute_result"
    },
    {
     "data": {
      "image/png": "[encoded data removed]",
      "text/plain": [
       "<Figure size 432x288 with 2 Axes>"
      ]
     },
     "metadata": {
      "needs_background": "light"
     },
     "output_type": "display_data"
    }
   ],
   "source": [
    "confusion_matrix(y_test, y_predict_nb)\n",
    "plot_confusion_matrix(NB_model, X_test, y_test, cmap='BuPu')  "
   ]
  },
  {
   "cell_type": "code",
   "execution_count": 69,
   "metadata": {},
   "outputs": [
    {
     "name": "stdout",
     "output_type": "stream",
     "text": [
      "              precision    recall  f1-score   support\n",
      "\n",
      "          -1       0.95      0.10      0.17      2533\n",
      "           0       0.70      0.79      0.75      6447\n",
      "           1       0.62      0.78      0.69      5507\n",
      "\n",
      "    accuracy                           0.67     14487\n",
      "   macro avg       0.76      0.56      0.54     14487\n",
      "weighted avg       0.71      0.67      0.62     14487\n",
      "\n"
     ]
    }
   ],
   "source": [
    "print(classification_report(y_test, y_predict_nb, labels=np.unique(y_predict_nb)))"
   ]
  },
  {
   "cell_type": "markdown",
   "metadata": {},
   "source": [
    "## Logistics Regression model"
   ]
  },
  {
   "cell_type": "code",
   "execution_count": 120,
   "metadata": {},
   "outputs": [
    {
     "name": "stdout",
     "output_type": "stream",
     "text": [
      "0.778560088355077\n"
     ]
    }
   ],
   "source": [
    "# Training Logistics Regression model\n",
    "LR_model = LogisticRegression(max_iter=500)\n",
    "LR_model.fit(X_train, y_train)\n",
    "y_predict_lr = LR_model.predict(X_test)\n",
    "print(accuracy_score(y_test, y_predict_lr))"
   ]
  },
  {
   "cell_type": "markdown",
   "metadata": {},
   "source": [
    "### Confusion matrix"
   ]
  },
  {
   "cell_type": "code",
   "execution_count": 123,
   "metadata": {},
   "outputs": [
    {
     "data": {
      "image/png": "[encoded data removed]",
      "text/plain": [
       "<Figure size 432x288 with 2 Axes>"
      ]
     },
     "metadata": {
      "needs_background": "light"
     },
     "output_type": "display_data"
    }
   ],
   "source": [
    "from matplotlib import pyplot as plt\n",
    "confusion_matrix(y_test, y_predict_lr)\n",
    "plot_confusion_matrix(LR_model, X_test, y_test, cmap='BuPu')  \n",
    "plt.savefig('plots/confusionLR.png')"
   ]
  },
  {
   "cell_type": "code",
   "execution_count": 122,
   "metadata": {},
   "outputs": [
    {
     "name": "stdout",
     "output_type": "stream",
     "text": [
      "              precision    recall  f1-score   support\n",
      "\n",
      "          -1       0.87      0.44      0.59      2533\n",
      "           0       0.73      0.94      0.82      6447\n",
      "           1       0.84      0.75      0.79      5507\n",
      "\n",
      "    accuracy                           0.78     14487\n",
      "   macro avg       0.81      0.71      0.73     14487\n",
      "weighted avg       0.80      0.78      0.77     14487\n",
      "\n"
     ]
    }
   ],
   "source": [
    "print(classification_report(y_test, y_predict_lr, labels=np.unique(y_predict_lr)))"
   ]
  },
  {
   "cell_type": "markdown",
   "metadata": {},
   "source": [
    "***\n",
    "# Regression"
   ]
  },
  {
   "cell_type": "markdown",
   "metadata": {},
   "source": [
    "For we regression, we need to import the dataset with the polarity data."
   ]
  },
  {
   "cell_type": "code",
   "execution_count": 9,
   "metadata": {},
   "outputs": [],
   "source": [
    "keywords = ['Tweets', 'len', 'ID', 'Date', 'Source', 'Likes', 'RTs',\n",
    "       'User Location', 'Geo', 'Coordinates', 'SA']\n",
    "# Load dataset\n",
    "dataset = load_dataset(\"sample_data/polarity_dataset.csv\", keywords)\n",
    "# Remove unwanted columns from dataset\n",
    "df = redefine_dataset(dataset)\n",
    "#Preprocess data\n",
    "df['text'] = df['text'].apply(preprocess_tweet_text)"
   ]
  },
  {
   "cell_type": "code",
   "execution_count": 10,
   "metadata": {},
   "outputs": [
    {
     "data": {
      "text/html": [
       "<div>\n",
       "<style scoped>\n",
       "    .dataframe tbody tr th:only-of-type {\n",
       "        vertical-align: middle;\n",
       "    }\n",
       "\n",
       "    .dataframe tbody tr th {\n",
       "        vertical-align: top;\n",
       "    }\n",
       "\n",
       "    .dataframe thead th {\n",
       "        text-align: right;\n",
       "    }\n",
       "</style>\n",
       "<table border=\"1\" class=\"dataframe\">\n",
       "  <thead>\n",
       "    <tr style=\"text-align: right;\">\n",
       "      <th></th>\n",
       "      <th>text</th>\n",
       "      <th>target</th>\n",
       "    </tr>\n",
       "  </thead>\n",
       "  <tbody>\n",
       "    <tr>\n",
       "      <th>0</th>\n",
       "      <td>RT One thing threat Coronavirus outbreak made ...</td>\n",
       "      <td>0.05</td>\n",
       "    </tr>\n",
       "    <tr>\n",
       "      <th>1</th>\n",
       "      <td>RT Mon beaufrÃ¨re prÃ©sente tous les symptÃ´me...</td>\n",
       "      <td>0.00</td>\n",
       "    </tr>\n",
       "    <tr>\n",
       "      <th>2</th>\n",
       "      <td>RT SoireeBFMTV Nous avons un objectif freiner ...</td>\n",
       "      <td>0.30</td>\n",
       "    </tr>\n",
       "    <tr>\n",
       "      <th>3</th>\n",
       "      <td>RT Coronavirus CoronavirusPy Esta es la primer...</td>\n",
       "      <td>0.25</td>\n",
       "    </tr>\n",
       "    <tr>\n",
       "      <th>4</th>\n",
       "      <td>RT Ya os lo digo yo Â¡PARA JODER</td>\n",
       "      <td>-0.50</td>\n",
       "    </tr>\n",
       "  </tbody>\n",
       "</table>\n",
       "</div>"
      ],
      "text/plain": [
       "                                                text  target\n",
       "0  RT One thing threat Coronavirus outbreak made ...    0.05\n",
       "1  RT Mon beaufrÃ¨re prÃ©sente tous les symptÃ´me...    0.00\n",
       "2  RT SoireeBFMTV Nous avons un objectif freiner ...    0.30\n",
       "3  RT Coronavirus CoronavirusPy Esta es la primer...    0.25\n",
       "4                   RT Ya os lo digo yo Â¡PARA JODER   -0.50"
      ]
     },
     "execution_count": 10,
     "metadata": {},
     "output_type": "execute_result"
    }
   ],
   "source": [
    "df.head()"
   ]
  },
  {
   "cell_type": "code",
   "execution_count": 11,
   "metadata": {},
   "outputs": [],
   "source": [
    "tf_vector_regression = get_feature_vector(np.array(df.iloc[:, 0]))\n",
    "X = tf_vector_regression.transform(np.array(df.iloc[:, 0]).ravel())\n",
    "y = np.round(np.array(df.iloc[:, 1]).ravel(), decimals=1)\n",
    "X_train_reg, X_test_reg, y_train_reg, y_test_reg = train_test_split(X, y, test_size=0.2, random_state=30)"
   ]
  },
  {
   "cell_type": "markdown",
   "metadata": {},
   "source": [
    "## Linear Regression model"
   ]
  },
  {
   "cell_type": "code",
   "execution_count": 161,
   "metadata": {},
   "outputs": [
    {
     "name": "stdout",
     "output_type": "stream",
     "text": [
      "Mean squared error: 0.34\n",
      "R2: -4.93\n"
     ]
    }
   ],
   "source": [
    "lin_regr = linear_model.LinearRegression()\n",
    "lin_regr.fit(X_train_reg, y_train_reg)\n",
    "y_predict_lin = lin_regr.predict(X_test_reg)\n",
    "print(f'Mean squared error: {mean_squared_error(y_test_reg, y_predict_lin):.2f}' )\n",
    "print(f'R2: {r2_score(y_test_reg, y_predict_lin):.2f}')"
   ]
  },
  {
   "cell_type": "markdown",
   "metadata": {},
   "source": [
    "Noticed that the r2 is negative, this means that we are doing worse than the mean value. This is problably because our model cannot be fitted in a linear function."
   ]
  },
  {
   "cell_type": "markdown",
   "metadata": {},
   "source": [
    "## Ridge Regression model"
   ]
  },
  {
   "cell_type": "code",
   "execution_count": 12,
   "metadata": {},
   "outputs": [],
   "source": [
    "Rid_model = Ridge(alpha=0.6)\n",
    "Rid_model.fit(X_train_reg, y_train_reg)\n",
    "y_predict_rid = Rid_model.predict(X_test_reg)"
   ]
  },
  {
   "cell_type": "markdown",
   "metadata": {},
   "source": [
    "We can evaluate the Ridge Regression model on the housing dataset using repeated 10-fold cross-validation and report the average mean absolute error (MAE) on the dataset."
   ]
  },
  {
   "cell_type": "code",
   "execution_count": 13,
   "metadata": {},
   "outputs": [
    {
     "name": "stdout",
     "output_type": "stream",
     "text": [
      "Mean MAE: 0.127 (0.004)\n",
      "Mean squared error: 0.04\n",
      "R2: 0.34\n"
     ]
    }
   ],
   "source": [
    "cv = RepeatedKFold(n_splits=10, n_repeats=3, random_state=1)\n",
    "# evaluate model\n",
    "scores = cross_val_score(Rid_model, X, y, scoring='neg_mean_absolute_error', cv=cv, n_jobs=-1)\n",
    "# force scores to be positive\n",
    "scores = np.absolute(scores)\n",
    "print('Mean MAE: %.3f (%.3f)' % (np.mean(scores), np.std(scores)))\n",
    "print(f'Mean squared error: {mean_squared_error(y_test_reg, y_predict_rid):.2f}' )\n",
    "print(f'R2: {r2_score(y_test_reg, y_predict_rid):.2f}')"
   ]
  },
  {
   "cell_type": "code",
   "execution_count": 20,
   "metadata": {},
   "outputs": [
    {
     "data": {
      "image/png": "[encoded data removed]",
      "text/plain": [
       "<Figure size 432x288 with 1 Axes>"
      ]
     },
     "metadata": {
      "needs_background": "light"
     },
     "output_type": "display_data"
    }
   ],
   "source": [
    "n_alphas = 200\n",
    "alphas = np.logspace(-10, -2, n_alphas)\n",
    "\n",
    "coefs = []\n",
    "for a in alphas:\n",
    "    ridge = Ridge(alpha=a, fit_intercept=False)\n",
    "    ridge.fit(X_train_reg, y_train_reg)\n",
    "    coefs.append(ridge.coef_)\n",
    "# Display results\n",
    "\n",
    "ax = plt.gca()\n",
    "\n",
    "ax.plot(alphas, coefs)\n",
    "ax.set_xscale('log')\n",
    "ax.set_xlim(ax.get_xlim()[::-1])  # reverse axis\n",
    "plt.xlabel('alpha')\n",
    "plt.ylabel('weights')\n",
    "plt.title('Ridge coefficients as a function of the regularization')\n",
    "plt.axis('tight')\n",
    "plt.savefig('plots/ridgeCoefficients.png')\n",
    "plt.show()"
   ]
  },
  {
   "cell_type": "markdown",
   "metadata": {},
   "source": [
    "# Results "
   ]
  },
  {
   "cell_type": "markdown",
   "metadata": {},
   "source": [
    "We can now compare the models and their accuracy.\n",
    "These accuracy figures are recorded without implementing stemming or lemmatization. Using better techniques, you might get better accuracy."
   ]
  }
 ],
 "metadata": {
  "kernelspec": {
   "display_name": "Python 3",
   "language": "python",
   "name": "python3"
  }
 },
 "nbformat": 4,
 "nbformat_minor": 4
}
